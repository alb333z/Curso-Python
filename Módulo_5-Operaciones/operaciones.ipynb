{
 "cells": [
  {
   "cell_type": "markdown",
   "metadata": {},
   "source": [
    "KATA 5 Operaciones Aritmeticas"
   ]
  },
  {
   "cell_type": "code",
   "execution_count": 3,
   "metadata": {},
   "outputs": [
    {
     "name": "stdout",
     "output_type": "stream",
     "text": [
      "distancia en kilometro 628949330 \n",
      "distancia en millas: 390577533.93 \n",
      "\n"
     ]
    }
   ],
   "source": [
    "distanciaTierra = 149597870 #kms\n",
    "distanceJupiter = 778547200\n",
    "\n",
    "distancekm = distanceJupiter-distanciaTierra\n",
    "\n",
    "distanceMilla = distancekm * 0.621\n",
    "\n",
    "\n",
    "distancias = f\"\"\"distancia en kilometro {distancekm} \n",
    "distancia en millas: {distanceMilla} \n",
    "\"\"\"\n",
    "\n",
    "print(distancias) \n",
    "\n"
   ]
  },
  {
   "cell_type": "code",
   "execution_count": 5,
   "metadata": {},
   "outputs": [
    {
     "name": "stdout",
     "output_type": "stream",
     "text": [
      "50300000\n",
      "31236300.0\n"
     ]
    }
   ],
   "source": [
    "primerPlaneta = input('Introduzca la distancia del sol al primer planeta en Kilometros')\n",
    "segundoPlaneta = input('Introduzca la distancia del sol al segundo planeta en Kilometros')\n",
    "\n",
    "primerPlaneta = int(primerPlaneta)\n",
    "segundoPlaneta = int(segundoPlaneta)\n",
    "\n",
    "distanciaKm = segundoPlaneta - primerPlaneta\n",
    "print(distanciaKm)\n",
    "\n",
    "# Convertir de KM a Millas\n",
    "distanciaMillas = distanciaKm * 0.621\n",
    "print(abs(distanciaMillas))"
   ]
  },
  {
   "cell_type": "code",
   "execution_count": null,
   "metadata": {},
   "outputs": [],
   "source": []
  }
 ],
 "metadata": {
  "interpreter": {
   "hash": "dc7dd2a7f09f98238ad9185351ce5de3bde9fd86bb3f7524ede3379a2310d16d"
  },
  "kernelspec": {
   "display_name": "Python 3.10.2 64-bit (windows store)",
   "language": "python",
   "name": "python3"
  },
  "language_info": {
   "codemirror_mode": {
    "name": "ipython",
    "version": 3
   },
   "file_extension": ".py",
   "mimetype": "text/x-python",
   "name": "python",
   "nbconvert_exporter": "python",
   "pygments_lexer": "ipython3",
   "version": "3.10.2"
  },
  "orig_nbformat": 4
 },
 "nbformat": 4,
 "nbformat_minor": 2
}
