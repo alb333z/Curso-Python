{
 "cells": [
  {
   "cell_type": "markdown",
   "metadata": {},
   "source": [
    "Logica Booleana"
   ]
  },
  {
   "cell_type": "code",
   "execution_count": 3,
   "metadata": {},
   "outputs": [
    {
     "name": "stdout",
     "output_type": "stream",
     "text": [
      "El asteroide se acerca rapidamente a la tierra\n"
     ]
    }
   ],
   "source": [
    "velocidad_asteroide=49\n",
    "\n",
    "if velocidad_asteroide > 25:\n",
    "    print(\"El asteroide se acerca rapidamente a la tierra\")\n",
    "else:\n",
    "    print(\"El asteroide se acerca lentamente\")        "
   ]
  },
  {
   "cell_type": "code",
   "execution_count": 7,
   "metadata": {},
   "outputs": [
    {
     "name": "stdout",
     "output_type": "stream",
     "text": [
      "No se vera nada\n"
     ]
    }
   ],
   "source": [
    "velocidad_asteroide=19\n",
    "\n",
    "if velocidad_asteroide > 20:\n",
    "    print(\"Atentos al rayo de luz\")\n",
    "elif velocidad_asteroide == 20:\n",
    "    print(\"Atentos al rayo de luz\")\n",
    "else :\n",
    "    print(\"No se vera nada\")    \n"
   ]
  },
  {
   "cell_type": "code",
   "execution_count": 10,
   "metadata": {},
   "outputs": [
    {
     "name": "stdout",
     "output_type": "stream",
     "text": [
      "Cuidado el asteroide podria causar gran daño\n"
     ]
    }
   ],
   "source": [
    "velocidad_asteroide=30\n",
    "tamano_asteroide=16\n",
    "\n",
    "if velocidad_asteroide > 25 or tamano_asteroide > 25:\n",
    "    print('Cuidado el asteroide podria causar gran daño')\n",
    "elif tamano_asteroide < 25:\n",
    "    print('Nada')\n",
    "elif velocidad_asteroide >= 20:\n",
    "    print('Atentos al rayo de luz')\n",
    "else:\n",
    "    print('No hay peligro')"
   ]
  }
 ],
 "metadata": {
  "interpreter": {
   "hash": "e968808c0b43183fe3f74e7a2601144aecce95f5ce534c390b532dc09fa3ad6b"
  },
  "kernelspec": {
   "display_name": "Python 3.10.2 64-bit",
   "language": "python",
   "name": "python3"
  },
  "language_info": {
   "codemirror_mode": {
    "name": "ipython",
    "version": 3
   },
   "file_extension": ".py",
   "mimetype": "text/x-python",
   "name": "python",
   "nbconvert_exporter": "python",
   "pygments_lexer": "ipython3",
   "version": "3.10.2"
  },
  "orig_nbformat": 4
 },
 "nbformat": 4,
 "nbformat_minor": 2
}
